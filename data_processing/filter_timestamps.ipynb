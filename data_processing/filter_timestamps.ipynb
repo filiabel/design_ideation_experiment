{
 "cells": [
  {
   "cell_type": "code",
   "execution_count": 1,
   "metadata": {},
   "outputs": [],
   "source": [
    "# Adapted from https://gist.github.com/papr/96f35bebcfea4e9b9552590868ca7f54\n",
    "# See issue discussed on Pupil Labs' Discord: https://discord.com/channels/285728493612957698/285728493612957698/857998442999578664\n",
    "\n",
    "import sys\n",
    "sys.path.append(\"pupil_shared_modules/\")"
   ]
  },
  {
   "cell_type": "code",
   "execution_count": 2,
   "metadata": {},
   "outputs": [],
   "source": [
    "import json\n",
    "import pathlib\n",
    "\n",
    "import pandas as pd\n",
    "import numpy as np\n",
    "\n",
    "import file_methods as fm"
   ]
  },
  {
   "cell_type": "markdown",
   "metadata": {
    "jupyter": {
     "source_hidden": true
    }
   },
   "source": [
    "Reads a pldata file and writes a new one into the `filtered`\n",
    "subdirectory, for all data points for which `filter_fn` returns `True`"
   ]
  },
  {
   "cell_type": "code",
   "execution_count": 3,
   "metadata": {},
   "outputs": [],
   "source": [
    "def filter_pldata(pldata_dir, pldata_topic, filter_fn):\n",
    "    data = fm.load_pldata_file(pldata_dir, pldata_topic)\n",
    "    pldata_dir /= \"filtered\"\n",
    "    pldata_dir.mkdir(exist_ok=True)\n",
    "    with fm.PLData_Writer(pldata_dir, pldata_topic) as writer:\n",
    "        for d, ts, topic in zip(*data):\n",
    "            if filter_fn(ts):\n",
    "                writer.append_serialized(ts, topic, d.serialized)\n",
    "        num_samples_removed = len(data.timestamps) - len(writer.ts_queue)\n",
    "        print(\n",
    "            f\"\\t{pldata_topic}: {num_samples_removed} samples removed outside recording range\"\n",
    "        )"
   ]
  },
  {
   "cell_type": "markdown",
   "metadata": {},
   "source": [
    "Loop that looks for all recordings in `root_path`, and filters pupil and gaze data\n",
    "such that samples from before the recording start are removed."
   ]
  },
  {
   "cell_type": "code",
   "execution_count": 4,
   "metadata": {},
   "outputs": [
    {
     "output_type": "stream",
     "name": "stdout",
     "text": [
      "C:\\Users\\filipga\\OneDrive - NTNU\\Design ideation\\Experiment\\Data\\Pupil data\\participant_001\\000 - 1970-01-01 00:00:00.068950599\n",
      "\tpupil: 38 samples removed outside recording range\n",
      "\tgaze: 29 samples removed outside recording range\n",
      "C:\\Users\\filipga\\OneDrive - NTNU\\Design ideation\\Experiment\\Data\\Pupil data\\participant_002\\000 - 1970-01-01 00:00:00.046201599\n",
      "\tpupil: 40 samples removed outside recording range\n",
      "\tgaze: 30 samples removed outside recording range\n",
      "C:\\Users\\filipga\\OneDrive - NTNU\\Design ideation\\Experiment\\Data\\Pupil data\\participant_003\\000 - 1970-01-01 00:00:00.051737199\n",
      "\tpupil: 36 samples removed outside recording range\n",
      "\tgaze: 28 samples removed outside recording range\n",
      "C:\\Users\\filipga\\OneDrive - NTNU\\Design ideation\\Experiment\\Data\\Pupil data\\participant_004\\000 - 1970-01-01 00:00:00.047025399\n",
      "\tpupil: 32 samples removed outside recording range\n",
      "\tgaze: 26 samples removed outside recording range\n",
      "C:\\Users\\filipga\\OneDrive - NTNU\\Design ideation\\Experiment\\Data\\Pupil data\\participant_005\\000 - 1970-01-01 00:00:00.051244099\n",
      "\tpupil: 40 samples removed outside recording range\n",
      "\tgaze: 30 samples removed outside recording range\n",
      "C:\\Users\\filipga\\OneDrive - NTNU\\Design ideation\\Experiment\\Data\\Pupil data\\participant_006\\000 - 1970-01-01 00:00:00.042318599\n",
      "\tpupil: 34 samples removed outside recording range\n",
      "\tgaze: 27 samples removed outside recording range\n",
      "C:\\Users\\filipga\\OneDrive - NTNU\\Design ideation\\Experiment\\Data\\Pupil data\\participant_007\\000 - 1970-01-01 00:00:00.034736899\n",
      "\tpupil: 28 samples removed outside recording range\n",
      "\tgaze: 24 samples removed outside recording range\n",
      "C:\\Users\\filipga\\OneDrive - NTNU\\Design ideation\\Experiment\\Data\\Pupil data\\participant_008\\000 - 1970-01-01 00:00:00.061657999\n",
      "\tpupil: 32 samples removed outside recording range\n",
      "\tgaze: 26 samples removed outside recording range\n",
      "C:\\Users\\filipga\\OneDrive - NTNU\\Design ideation\\Experiment\\Data\\Pupil data\\participant_009\\000 - 1970-01-01 00:00:00.056959899\n",
      "\tpupil: 34 samples removed outside recording range\n",
      "\tgaze: 26 samples removed outside recording range\n",
      "C:\\Users\\filipga\\OneDrive - NTNU\\Design ideation\\Experiment\\Data\\Pupil data\\participant_010\\000 - 1970-01-01 00:00:00.049670899\n",
      "\tpupil: 32 samples removed outside recording range\n",
      "\tgaze: 26 samples removed outside recording range\n",
      "C:\\Users\\filipga\\OneDrive - NTNU\\Design ideation\\Experiment\\Data\\Pupil data\\participant_011\\000 - 1970-01-01 00:00:00.047148499\n",
      "\tpupil: 32 samples removed outside recording range\n",
      "\tgaze: 25 samples removed outside recording range\n",
      "C:\\Users\\filipga\\OneDrive - NTNU\\Design ideation\\Experiment\\Data\\Pupil data\\participant_012\\000 - 1970-01-01 00:00:00.065061799\n",
      "\tpupil: 26 samples removed outside recording range\n",
      "\tgaze: 23 samples removed outside recording range\n",
      "C:\\Users\\filipga\\OneDrive - NTNU\\Design ideation\\Experiment\\Data\\Pupil data\\participant_013\\000 - 1970-01-01 00:00:00.040852399\n",
      "\tpupil: 36 samples removed outside recording range\n",
      "\tgaze: 28 samples removed outside recording range\n",
      "C:\\Users\\filipga\\OneDrive - NTNU\\Design ideation\\Experiment\\Data\\Pupil data\\participant_014\\000 - 1970-01-01 00:00:00.089336999\n",
      "\tpupil: 36 samples removed outside recording range\n",
      "\tgaze: 27 samples removed outside recording range\n",
      "C:\\Users\\filipga\\OneDrive - NTNU\\Design ideation\\Experiment\\Data\\Pupil data\\participant_015\\000 - 1970-01-01 00:00:00.041713199\n",
      "\tpupil: 32 samples removed outside recording range\n",
      "\tgaze: 25 samples removed outside recording range\n",
      "C:\\Users\\filipga\\OneDrive - NTNU\\Design ideation\\Experiment\\Data\\Pupil data\\participant_016\\000 - 1970-01-01 00:00:00.037553900\n",
      "\tpupil: 36 samples removed outside recording range\n",
      "\tgaze: 28 samples removed outside recording range\n",
      "C:\\Users\\filipga\\OneDrive - NTNU\\Design ideation\\Experiment\\Data\\Pupil data\\participant_017\\000 - 1970-01-01 00:00:00.044881\n",
      "\tpupil: 40 samples removed outside recording range\n",
      "\tgaze: 29 samples removed outside recording range\n",
      "C:\\Users\\filipga\\OneDrive - NTNU\\Design ideation\\Experiment\\Data\\Pupil data\\participant_018\\000 - 1970-01-01 00:00:00.053082399\n",
      "\tpupil: 32 samples removed outside recording range\n",
      "\tgaze: 26 samples removed outside recording range\n",
      "C:\\Users\\filipga\\OneDrive - NTNU\\Design ideation\\Experiment\\Data\\Pupil data\\participant_019\\000 - 1970-01-01 00:00:00.062831699\n",
      "\tpupil: 28 samples removed outside recording range\n",
      "\tgaze: 24 samples removed outside recording range\n",
      "C:\\Users\\filipga\\OneDrive - NTNU\\Design ideation\\Experiment\\Data\\Pupil data\\participant_020\\000 - 1970-01-01 00:00:00.045057999\n",
      "\tpupil: 30 samples removed outside recording range\n",
      "\tgaze: 24 samples removed outside recording range\n",
      "C:\\Users\\filipga\\OneDrive - NTNU\\Design ideation\\Experiment\\Data\\Pupil data\\participant_021\\000 - 1970-01-01 00:00:00.045975999\n",
      "\tpupil: 32 samples removed outside recording range\n",
      "\tgaze: 26 samples removed outside recording range\n",
      "C:\\Users\\filipga\\OneDrive - NTNU\\Design ideation\\Experiment\\Data\\Pupil data\\participant_022\\000 - 1970-01-01 00:00:00.052786999\n",
      "\tpupil: 36 samples removed outside recording range\n",
      "\tgaze: 28 samples removed outside recording range\n",
      "C:\\Users\\filipga\\OneDrive - NTNU\\Design ideation\\Experiment\\Data\\Pupil data\\participant_023\\000 - 1970-01-01 00:00:00.055229699\n",
      "\tpupil: 36 samples removed outside recording range\n",
      "\tgaze: 28 samples removed outside recording range\n",
      "C:\\Users\\filipga\\OneDrive - NTNU\\Design ideation\\Experiment\\Data\\Pupil data\\participant_024\\000 - 1970-01-01 00:00:00.058915699\n",
      "\tpupil: 32 samples removed outside recording range\n",
      "\tgaze: 26 samples removed outside recording range\n"
     ]
    }
   ],
   "source": [
    "root_path = r'C:\\Users\\filipga\\OneDrive - NTNU\\Design ideation\\Experiment\\Data\\Pupil data'\n",
    "for info_json in sorted(pathlib.Path(root_path).glob(\"participant_0*/000/info.player.json\")):\n",
    "    with info_json.open() as info_fh:\n",
    "        info_data = json.load(info_fh)\n",
    "    start = info_data[\"start_time_synced_s\"]\n",
    "    duration = info_data[\"duration_s\"] + 60 # add a generous buffer\n",
    "\n",
    "    # Filter function. Only allow above start and below duration\n",
    "    filter_fn = lambda ts: ts >= start and ts <= duration\n",
    "    \n",
    "    print(f\"{info_json.parent} - {pd.to_datetime(start, unit='s')}\")\n",
    "\n",
    "    filter_pldata(info_json.parent, \"pupil\", filter_fn)\n",
    "    filter_pldata(info_json.parent, \"gaze\", filter_fn)"
   ]
  },
  {
   "cell_type": "markdown",
   "metadata": {},
   "source": [
    "Now you can make a backup of your original files and replace them with the filtered ones in your recording.\n",
    "Afterward, you can open the recording in Player."
   ]
  },
  {
   "cell_type": "code",
   "execution_count": null,
   "metadata": {},
   "outputs": [],
   "source": []
  }
 ],
 "metadata": {
  "kernelspec": {
   "name": "python3",
   "display_name": "Python 3.9.5 64-bit ('design_ideation': conda)"
  },
  "language_info": {
   "codemirror_mode": {
    "name": "ipython",
    "version": 3
   },
   "file_extension": ".py",
   "mimetype": "text/x-python",
   "name": "python",
   "nbconvert_exporter": "python",
   "pygments_lexer": "ipython3",
   "version": "3.9.5"
  },
  "interpreter": {
   "hash": "29e3b48472108515179a913b235950e765c03031626231e20f04f71864ceb013"
  }
 },
 "nbformat": 4,
 "nbformat_minor": 4
}